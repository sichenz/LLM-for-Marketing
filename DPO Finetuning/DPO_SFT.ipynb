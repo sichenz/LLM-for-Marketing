{
 "cells": [
  {
   "cell_type": "markdown",
   "metadata": {
    "id": "70wpqVz6poZ1"
   },
   "source": [
    "# Required documents:\n",
    "- wharton_data.xlsx: Dataset that contains Xiaohongshu's posts"
   ]
  },
  {
   "cell_type": "code",
   "execution_count": 1,
   "metadata": {
    "colab": {
     "base_uri": "https://localhost:8080/"
    },
    "executionInfo": {
     "elapsed": 2865,
     "status": "ok",
     "timestamp": 1738315879738,
     "user": {
      "displayName": "Sichen Zhong",
      "userId": "05976141553128755948"
     },
     "user_tz": 300
    },
    "id": "ZiigbJd-Ag29",
    "outputId": "9d16a28f-7e9e-43f3-f74d-58d7eab18a1b"
   },
   "outputs": [
    {
     "name": "stdout",
     "output_type": "stream",
     "text": [
      "Requirement already satisfied: openai==0.28 in /usr/local/lib/python3.11/dist-packages (0.28.0)\n",
      "Requirement already satisfied: requests>=2.20 in /usr/local/lib/python3.11/dist-packages (from openai==0.28) (2.32.3)\n",
      "Requirement already satisfied: tqdm in /usr/local/lib/python3.11/dist-packages (from openai==0.28) (4.67.1)\n",
      "Requirement already satisfied: aiohttp in /usr/local/lib/python3.11/dist-packages (from openai==0.28) (3.11.11)\n",
      "Requirement already satisfied: charset-normalizer<4,>=2 in /usr/local/lib/python3.11/dist-packages (from requests>=2.20->openai==0.28) (3.4.1)\n",
      "Requirement already satisfied: idna<4,>=2.5 in /usr/local/lib/python3.11/dist-packages (from requests>=2.20->openai==0.28) (3.10)\n",
      "Requirement already satisfied: urllib3<3,>=1.21.1 in /usr/local/lib/python3.11/dist-packages (from requests>=2.20->openai==0.28) (2.3.0)\n",
      "Requirement already satisfied: certifi>=2017.4.17 in /usr/local/lib/python3.11/dist-packages (from requests>=2.20->openai==0.28) (2024.12.14)\n",
      "Requirement already satisfied: aiohappyeyeballs>=2.3.0 in /usr/local/lib/python3.11/dist-packages (from aiohttp->openai==0.28) (2.4.4)\n",
      "Requirement already satisfied: aiosignal>=1.1.2 in /usr/local/lib/python3.11/dist-packages (from aiohttp->openai==0.28) (1.3.2)\n",
      "Requirement already satisfied: attrs>=17.3.0 in /usr/local/lib/python3.11/dist-packages (from aiohttp->openai==0.28) (25.1.0)\n",
      "Requirement already satisfied: frozenlist>=1.1.1 in /usr/local/lib/python3.11/dist-packages (from aiohttp->openai==0.28) (1.5.0)\n",
      "Requirement already satisfied: multidict<7.0,>=4.5 in /usr/local/lib/python3.11/dist-packages (from aiohttp->openai==0.28) (6.1.0)\n",
      "Requirement already satisfied: propcache>=0.2.0 in /usr/local/lib/python3.11/dist-packages (from aiohttp->openai==0.28) (0.2.1)\n",
      "Requirement already satisfied: yarl<2.0,>=1.17.0 in /usr/local/lib/python3.11/dist-packages (from aiohttp->openai==0.28) (1.18.3)\n"
     ]
    }
   ],
   "source": [
    "pip install openai==0.28"
   ]
  },
  {
   "cell_type": "code",
   "execution_count": 2,
   "metadata": {
    "executionInfo": {
     "elapsed": 4032,
     "status": "ok",
     "timestamp": 1738315886900,
     "user": {
      "displayName": "Sichen Zhong",
      "userId": "05976141553128755948"
     },
     "user_tz": 300
    },
    "id": "o-EwMybKJ0PT"
   },
   "outputs": [],
   "source": [
    "import pandas as pd\n",
    "import numpy as np\n",
    "import matplotlib.pyplot as plt\n",
    "import seaborn as sns\n",
    "import nltk\n",
    "import json\n",
    "import random\n",
    "import openai\n",
    "import time"
   ]
  },
  {
   "cell_type": "markdown",
   "metadata": {
    "id": "YuZiSA0RLPhJ"
   },
   "source": [
    "# Load Data"
   ]
  },
  {
   "cell_type": "code",
   "execution_count": 3,
   "metadata": {
    "colab": {
     "base_uri": "https://localhost:8080/"
    },
    "executionInfo": {
     "elapsed": 2030,
     "status": "ok",
     "timestamp": 1738315890363,
     "user": {
      "displayName": "Sichen Zhong",
      "userId": "05976141553128755948"
     },
     "user_tz": 300
    },
    "id": "GfGdvGE8J38y",
    "outputId": "b0eb878e-ee63-4ad4-ed16-f2ec4f5fe04b"
   },
   "outputs": [
    {
     "data": {
      "text/plain": [
       "(267, 9)"
      ]
     },
     "execution_count": 3,
     "metadata": {},
     "output_type": "execute_result"
    }
   ],
   "source": [
    "post_df = pd.read_excel(\"/content/wharton_data.xlsx\")\n",
    "post_df.columns = [\"row_number\", \"post_date\", \"content\", \"like_count\", \"comments\", \"media_type\", \"image_url\", \"video_url\", \"article_url\"]\n",
    "post_df = post_df.dropna()\n",
    "post_df.shape"
   ]
  },
  {
   "cell_type": "code",
   "execution_count": 4,
   "metadata": {
    "colab": {
     "base_uri": "https://localhost:8080/",
     "height": 581
    },
    "executionInfo": {
     "elapsed": 350,
     "status": "ok",
     "timestamp": 1738315891772,
     "user": {
      "displayName": "Sichen Zhong",
      "userId": "05976141553128755948"
     },
     "user_tz": 300
    },
    "id": "wunEhextKBqg",
    "outputId": "ebc0d6f5-fb48-4308-835a-289c96a4b505"
   },
   "outputs": [
    {
     "data": {
      "application/vnd.google.colaboratory.intrinsic+json": {
       "summary": "{\n  \"name\": \"post_df\",\n  \"rows\": 267,\n  \"fields\": [\n    {\n      \"column\": \"row_number\",\n      \"properties\": {\n        \"dtype\": \"number\",\n        \"std\": 77,\n        \"min\": 1,\n        \"max\": 267,\n        \"num_unique_values\": 267,\n        \"samples\": [\n          85,\n          47,\n          184\n        ],\n        \"semantic_type\": \"\",\n        \"description\": \"\"\n      }\n    },\n    {\n      \"column\": \"post_date\",\n      \"properties\": {\n        \"dtype\": \"string\",\n        \"num_unique_values\": 263,\n        \"samples\": [\n          \"7/12/24, 11:19AM (EST)\",\n          \"4/1/24, 3:55PM (EST)\",\n          \"2/14/24, 5:20PM (EST)\"\n        ],\n        \"semantic_type\": \"\",\n        \"description\": \"\"\n      }\n    },\n    {\n      \"column\": \"content\",\n      \"properties\": {\n        \"dtype\": \"string\",\n        \"num_unique_values\": 267,\n        \"samples\": [\n          \"Does AI give sound ethical advice? Professor   Christian Terwiesch   led a team of   The Wharton School   researchers that found \\u201cno significant difference in the perceived value of advice\\\" given by   OpenAI \\u2019s GPT-4 and the human author of a New York Times ethics column. His interview with   Scientific American   leads this week's edition of our Wharton faculty in the news roundup. Swipe for... 1\\ufe0f\\u20e3   Christian Terwiesch   on LLMs:   https://whr.tn/3zCFuQI 2\\ufe0f\\u20e3   Exequiel (Zeke) Hernandez   on immigration and the workforce:   https://whr.tn/4cPRQmx 3\\ufe0f\\u20e3   Peter Cappelli   on hiring after the Great Resignation:   https://whr.tn/3zKjAe0 hashtag # Wharton   hashtag # Penn   hashtag # UniversityofPennsylvania\",\n          \"Why do meme stock phenomena happen, and what can regulators do about it? Bloomberg columnist Matt Levine joined our four-part \\\"Future of Finance\\\" series hosted by   The Wharton School   finance professor Itay Goldstein to answer that question and more about how social trends can disrupt financial markets:   https://whr.tn/40U9nau \\\"I think that GameStop was sort of a proof-of-concept,\\\" Levine said. \\\"But really, ultimately, Bitcoin and crypto were a bigger proof of it \\u2014 that something like social investing can work.\\\" hashtag # investing   hashtag # stocks   hashtag # stockmarket   hashtag # futureoffinance   hashtag # behavioralfinance\",\n          \"I much enjoyed my conversation with Knowledge at Wharton about the 10th anniversary edition of \\\"Baby Bust: New Choices for Men and Women in Work and Family,\\\" which tells the disturbing story of how two generations, 20 years apart, were thinking very differently about their plans for becoming parents as they graduated college.  My call to action, based on the research findings, addresses what can be done by individuals, by organizations, and through social policy to make it easier for people to realize their aspirations for raising the next generation.  The Wharton School   Total Leadership   hashtag # worklife   https://lnkd.in/gjmwyRfQ .\"\n        ],\n        \"semantic_type\": \"\",\n        \"description\": \"\"\n      }\n    },\n    {\n      \"column\": \"like_count\",\n      \"properties\": {\n        \"dtype\": \"number\",\n        \"std\": 147,\n        \"min\": 1,\n        \"max\": 1195,\n        \"num_unique_values\": 103,\n        \"samples\": [\n          10,\n          6,\n          282\n        ],\n        \"semantic_type\": \"\",\n        \"description\": \"\"\n      }\n    },\n    {\n      \"column\": \"comments\",\n      \"properties\": {\n        \"dtype\": \"number\",\n        \"std\": 13,\n        \"min\": 0,\n        \"max\": 158,\n        \"num_unique_values\": 25,\n        \"samples\": [\n          39,\n          110,\n          4\n        ],\n        \"semantic_type\": \"\",\n        \"description\": \"\"\n      }\n    },\n    {\n      \"column\": \"media_type\",\n      \"properties\": {\n        \"dtype\": \"category\",\n        \"num_unique_values\": 4,\n        \"samples\": [\n          \"Text\",\n          \"Article Link\",\n          \"Video\"\n        ],\n        \"semantic_type\": \"\",\n        \"description\": \"\"\n      }\n    },\n    {\n      \"column\": \"image_url\",\n      \"properties\": {\n        \"dtype\": \"category\",\n        \"num_unique_values\": 108,\n        \"samples\": [\n          \"https://media.licdn.com/dms/image/v2/D4E10AQEE64stGLyu5A/image-shrink_800/image-shrink_800/0/1718294703847?e=1738184400&v=beta&t=44aAmR6kgyFGE34CCnJ-9qxnNdlcU5_A5U3Y7Q-y9MA\",\n          \"https://media.licdn.com/dms/image/v2/D5622AQFA1QjKvkZYPg/feedshare-shrink_800/feedshare-shrink_800/0/1729718966005?e=1740614400&v=beta&t=dkRbZuEbqLPm6aKlNO6d20AC80lJiZ2sXlISBz_YmxQ; https://media.licdn.com/dms/image/v2/D4E03AQGprZzQIhzPRA/profile-displayphoto-shrink_100_100/profile-displayphoto-shrink_100_100/0/1704421177654?e=1743033600&v=beta&t=9chcbfGk3mBis5Rze_msoxib6uliol6iRtkdDFUpqrg\",\n          \"https://media.licdn.com/dms/image/v2/D4E10AQGz_BVTMjfZ7A/image-shrink_800/image-shrink_800/0/1736085612634?e=1738184400&v=beta&t=R7Z1bAQn4bidl2GClN0mXaeMUgORc033Z6mQ1S-EwxU\"\n        ],\n        \"semantic_type\": \"\",\n        \"description\": \"\"\n      }\n    },\n    {\n      \"column\": \"video_url\",\n      \"properties\": {\n        \"dtype\": \"category\",\n        \"num_unique_values\": 2,\n        \"samples\": [\n          \"No videos\",\n          \"https://dms.licdn.com/playlist/vid/dynamic/D5610AQES2NknK-4ikg/BAQFfO9q-w?e=1738184400&v=beta&t=KX8fclqP-YvsNTCYoQa90P0blY_LKkKoMS8q_7-s72s\"\n        ],\n        \"semantic_type\": \"\",\n        \"description\": \"\"\n      }\n    },\n    {\n      \"column\": \"article_url\",\n      \"properties\": {\n        \"dtype\": \"string\",\n        \"num_unique_values\": 267,\n        \"samples\": [\n          \"https://www.linkedin.com/company/scientific-american/; https://www.linkedin.com/in/ACoAAAApsrQBAfXHuBoq8-WBjebKE1912keEE8I; https://whr.tn/3zCFuQI; https://www.linkedin.com/in/ACoAAACWPkkB9J_k28TnPCkefDd4OcwFr7wIqDg; https://www.linkedin.com/feed/hashtag/?keywords=penn&highlightedUpdateUrns=urn%3Ali%3Aactivity%3A7216187042223812608; https://www.linkedin.com/company/the-wharton-school/; https://whr.tn/4cPRQmx; https://whr.tn/3zKjAe0; https://www.linkedin.com/company/openai/; https://www.linkedin.com/feed/hashtag/?keywords=wharton&highlightedUpdateUrns=urn%3Ali%3Aactivity%3A7216187042223812608; https://www.linkedin.com/in/ACoAAA0jLXABWiBZLChQwzJxqY6SHXXPgNwhtgY; https://www.linkedin.com/feed/hashtag/?keywords=universityofpennsylvania&highlightedUpdateUrns=urn%3Ali%3Aactivity%3A7216187042223812608\",\n          \"https://whr.tn/40U9nau; https://www.linkedin.com/feed/hashtag/?keywords=futureoffinance&highlightedUpdateUrns=urn%3Ali%3Aactivity%3A7265092881080619009; https://www.linkedin.com/feed/hashtag/?keywords=investing&highlightedUpdateUrns=urn%3Ali%3Aactivity%3A7265092881080619009; https://www.linkedin.com/feed/hashtag/?keywords=behavioralfinance&highlightedUpdateUrns=urn%3Ali%3Aactivity%3A7265092881080619009; https://www.linkedin.com/feed/hashtag/?keywords=stocks&highlightedUpdateUrns=urn%3Ali%3Aactivity%3A7265092881080619009; https://www.linkedin.com/feed/hashtag/?keywords=stockmarket&highlightedUpdateUrns=urn%3Ali%3Aactivity%3A7265092881080619009; https://www.linkedin.com/company/the-wharton-school/\"\n        ],\n        \"semantic_type\": \"\",\n        \"description\": \"\"\n      }\n    }\n  ]\n}",
       "type": "dataframe",
       "variable_name": "post_df"
      },
      "text/html": [
       "\n",
       "  <div id=\"df-3a1c4588-2028-4e51-a0b9-9599f74cefa6\" class=\"colab-df-container\">\n",
       "    <div>\n",
       "<style scoped>\n",
       "    .dataframe tbody tr th:only-of-type {\n",
       "        vertical-align: middle;\n",
       "    }\n",
       "\n",
       "    .dataframe tbody tr th {\n",
       "        vertical-align: top;\n",
       "    }\n",
       "\n",
       "    .dataframe thead th {\n",
       "        text-align: right;\n",
       "    }\n",
       "</style>\n",
       "<table border=\"1\" class=\"dataframe\">\n",
       "  <thead>\n",
       "    <tr style=\"text-align: right;\">\n",
       "      <th></th>\n",
       "      <th>row_number</th>\n",
       "      <th>post_date</th>\n",
       "      <th>content</th>\n",
       "      <th>like_count</th>\n",
       "      <th>comments</th>\n",
       "      <th>media_type</th>\n",
       "      <th>image_url</th>\n",
       "      <th>video_url</th>\n",
       "      <th>article_url</th>\n",
       "    </tr>\n",
       "  </thead>\n",
       "  <tbody>\n",
       "    <tr>\n",
       "      <th>0</th>\n",
       "      <td>1</td>\n",
       "      <td>12/9/24, 11:01AM (EST)</td>\n",
       "      <td>What are the factors shaping the future of fin...</td>\n",
       "      <td>437</td>\n",
       "      <td>4</td>\n",
       "      <td>Video</td>\n",
       "      <td>No images</td>\n",
       "      <td>https://dms.licdn.com/playlist/vid/dynamic/D56...</td>\n",
       "      <td>https://www.linkedin.com/feed/hashtag/?keyword...</td>\n",
       "    </tr>\n",
       "    <tr>\n",
       "      <th>1</th>\n",
       "      <td>2</td>\n",
       "      <td>1/22/25, 1:00PM (EST)</td>\n",
       "      <td>How can tax and spending reforms reduce the na...</td>\n",
       "      <td>13</td>\n",
       "      <td>0</td>\n",
       "      <td>Text</td>\n",
       "      <td>No images</td>\n",
       "      <td>No videos</td>\n",
       "      <td>https://www.linkedin.com/feed/hashtag/?keyword...</td>\n",
       "    </tr>\n",
       "    <tr>\n",
       "      <th>2</th>\n",
       "      <td>3</td>\n",
       "      <td>1/17/25, 8:45AM (EST)</td>\n",
       "      <td>While leaders often succumb to \"not invented h...</td>\n",
       "      <td>34</td>\n",
       "      <td>0</td>\n",
       "      <td>Image</td>\n",
       "      <td>https://media.licdn.com/dms/image/v2/D4E10AQGn...</td>\n",
       "      <td>No videos</td>\n",
       "      <td>https://www.linkedin.com/feed/hashtag/?keyword...</td>\n",
       "    </tr>\n",
       "    <tr>\n",
       "      <th>3</th>\n",
       "      <td>4</td>\n",
       "      <td>1/20/25, 9:00AM (EST)</td>\n",
       "      <td>Three professors weigh in on the impact of int...</td>\n",
       "      <td>3</td>\n",
       "      <td>0</td>\n",
       "      <td>Text</td>\n",
       "      <td>No images</td>\n",
       "      <td>No videos</td>\n",
       "      <td>https://www.linkedin.com/in/ACoAABbbHCIBpUmuGM...</td>\n",
       "    </tr>\n",
       "    <tr>\n",
       "      <th>4</th>\n",
       "      <td>5</td>\n",
       "      <td>1/16/25, 3:21PM (EST)</td>\n",
       "      <td>While AI is transforming industries, its resou...</td>\n",
       "      <td>14</td>\n",
       "      <td>1</td>\n",
       "      <td>Text</td>\n",
       "      <td>No images</td>\n",
       "      <td>No videos</td>\n",
       "      <td>https://www.linkedin.com/feed/hashtag/?keyword...</td>\n",
       "    </tr>\n",
       "  </tbody>\n",
       "</table>\n",
       "</div>\n",
       "    <div class=\"colab-df-buttons\">\n",
       "\n",
       "  <div class=\"colab-df-container\">\n",
       "    <button class=\"colab-df-convert\" onclick=\"convertToInteractive('df-3a1c4588-2028-4e51-a0b9-9599f74cefa6')\"\n",
       "            title=\"Convert this dataframe to an interactive table.\"\n",
       "            style=\"display:none;\">\n",
       "\n",
       "  <svg xmlns=\"http://www.w3.org/2000/svg\" height=\"24px\" viewBox=\"0 -960 960 960\">\n",
       "    <path d=\"M120-120v-720h720v720H120Zm60-500h600v-160H180v160Zm220 220h160v-160H400v160Zm0 220h160v-160H400v160ZM180-400h160v-160H180v160Zm440 0h160v-160H620v160ZM180-180h160v-160H180v160Zm440 0h160v-160H620v160Z\"/>\n",
       "  </svg>\n",
       "    </button>\n",
       "\n",
       "  <style>\n",
       "    .colab-df-container {\n",
       "      display:flex;\n",
       "      gap: 12px;\n",
       "    }\n",
       "\n",
       "    .colab-df-convert {\n",
       "      background-color: #E8F0FE;\n",
       "      border: none;\n",
       "      border-radius: 50%;\n",
       "      cursor: pointer;\n",
       "      display: none;\n",
       "      fill: #1967D2;\n",
       "      height: 32px;\n",
       "      padding: 0 0 0 0;\n",
       "      width: 32px;\n",
       "    }\n",
       "\n",
       "    .colab-df-convert:hover {\n",
       "      background-color: #E2EBFA;\n",
       "      box-shadow: 0px 1px 2px rgba(60, 64, 67, 0.3), 0px 1px 3px 1px rgba(60, 64, 67, 0.15);\n",
       "      fill: #174EA6;\n",
       "    }\n",
       "\n",
       "    .colab-df-buttons div {\n",
       "      margin-bottom: 4px;\n",
       "    }\n",
       "\n",
       "    [theme=dark] .colab-df-convert {\n",
       "      background-color: #3B4455;\n",
       "      fill: #D2E3FC;\n",
       "    }\n",
       "\n",
       "    [theme=dark] .colab-df-convert:hover {\n",
       "      background-color: #434B5C;\n",
       "      box-shadow: 0px 1px 3px 1px rgba(0, 0, 0, 0.15);\n",
       "      filter: drop-shadow(0px 1px 2px rgba(0, 0, 0, 0.3));\n",
       "      fill: #FFFFFF;\n",
       "    }\n",
       "  </style>\n",
       "\n",
       "    <script>\n",
       "      const buttonEl =\n",
       "        document.querySelector('#df-3a1c4588-2028-4e51-a0b9-9599f74cefa6 button.colab-df-convert');\n",
       "      buttonEl.style.display =\n",
       "        google.colab.kernel.accessAllowed ? 'block' : 'none';\n",
       "\n",
       "      async function convertToInteractive(key) {\n",
       "        const element = document.querySelector('#df-3a1c4588-2028-4e51-a0b9-9599f74cefa6');\n",
       "        const dataTable =\n",
       "          await google.colab.kernel.invokeFunction('convertToInteractive',\n",
       "                                                    [key], {});\n",
       "        if (!dataTable) return;\n",
       "\n",
       "        const docLinkHtml = 'Like what you see? Visit the ' +\n",
       "          '<a target=\"_blank\" href=https://colab.research.google.com/notebooks/data_table.ipynb>data table notebook</a>'\n",
       "          + ' to learn more about interactive tables.';\n",
       "        element.innerHTML = '';\n",
       "        dataTable['output_type'] = 'display_data';\n",
       "        await google.colab.output.renderOutput(dataTable, element);\n",
       "        const docLink = document.createElement('div');\n",
       "        docLink.innerHTML = docLinkHtml;\n",
       "        element.appendChild(docLink);\n",
       "      }\n",
       "    </script>\n",
       "  </div>\n",
       "\n",
       "\n",
       "<div id=\"df-81aa0494-8190-4e82-8834-48ada81c99ae\">\n",
       "  <button class=\"colab-df-quickchart\" onclick=\"quickchart('df-81aa0494-8190-4e82-8834-48ada81c99ae')\"\n",
       "            title=\"Suggest charts\"\n",
       "            style=\"display:none;\">\n",
       "\n",
       "<svg xmlns=\"http://www.w3.org/2000/svg\" height=\"24px\"viewBox=\"0 0 24 24\"\n",
       "     width=\"24px\">\n",
       "    <g>\n",
       "        <path d=\"M19 3H5c-1.1 0-2 .9-2 2v14c0 1.1.9 2 2 2h14c1.1 0 2-.9 2-2V5c0-1.1-.9-2-2-2zM9 17H7v-7h2v7zm4 0h-2V7h2v10zm4 0h-2v-4h2v4z\"/>\n",
       "    </g>\n",
       "</svg>\n",
       "  </button>\n",
       "\n",
       "<style>\n",
       "  .colab-df-quickchart {\n",
       "      --bg-color: #E8F0FE;\n",
       "      --fill-color: #1967D2;\n",
       "      --hover-bg-color: #E2EBFA;\n",
       "      --hover-fill-color: #174EA6;\n",
       "      --disabled-fill-color: #AAA;\n",
       "      --disabled-bg-color: #DDD;\n",
       "  }\n",
       "\n",
       "  [theme=dark] .colab-df-quickchart {\n",
       "      --bg-color: #3B4455;\n",
       "      --fill-color: #D2E3FC;\n",
       "      --hover-bg-color: #434B5C;\n",
       "      --hover-fill-color: #FFFFFF;\n",
       "      --disabled-bg-color: #3B4455;\n",
       "      --disabled-fill-color: #666;\n",
       "  }\n",
       "\n",
       "  .colab-df-quickchart {\n",
       "    background-color: var(--bg-color);\n",
       "    border: none;\n",
       "    border-radius: 50%;\n",
       "    cursor: pointer;\n",
       "    display: none;\n",
       "    fill: var(--fill-color);\n",
       "    height: 32px;\n",
       "    padding: 0;\n",
       "    width: 32px;\n",
       "  }\n",
       "\n",
       "  .colab-df-quickchart:hover {\n",
       "    background-color: var(--hover-bg-color);\n",
       "    box-shadow: 0 1px 2px rgba(60, 64, 67, 0.3), 0 1px 3px 1px rgba(60, 64, 67, 0.15);\n",
       "    fill: var(--button-hover-fill-color);\n",
       "  }\n",
       "\n",
       "  .colab-df-quickchart-complete:disabled,\n",
       "  .colab-df-quickchart-complete:disabled:hover {\n",
       "    background-color: var(--disabled-bg-color);\n",
       "    fill: var(--disabled-fill-color);\n",
       "    box-shadow: none;\n",
       "  }\n",
       "\n",
       "  .colab-df-spinner {\n",
       "    border: 2px solid var(--fill-color);\n",
       "    border-color: transparent;\n",
       "    border-bottom-color: var(--fill-color);\n",
       "    animation:\n",
       "      spin 1s steps(1) infinite;\n",
       "  }\n",
       "\n",
       "  @keyframes spin {\n",
       "    0% {\n",
       "      border-color: transparent;\n",
       "      border-bottom-color: var(--fill-color);\n",
       "      border-left-color: var(--fill-color);\n",
       "    }\n",
       "    20% {\n",
       "      border-color: transparent;\n",
       "      border-left-color: var(--fill-color);\n",
       "      border-top-color: var(--fill-color);\n",
       "    }\n",
       "    30% {\n",
       "      border-color: transparent;\n",
       "      border-left-color: var(--fill-color);\n",
       "      border-top-color: var(--fill-color);\n",
       "      border-right-color: var(--fill-color);\n",
       "    }\n",
       "    40% {\n",
       "      border-color: transparent;\n",
       "      border-right-color: var(--fill-color);\n",
       "      border-top-color: var(--fill-color);\n",
       "    }\n",
       "    60% {\n",
       "      border-color: transparent;\n",
       "      border-right-color: var(--fill-color);\n",
       "    }\n",
       "    80% {\n",
       "      border-color: transparent;\n",
       "      border-right-color: var(--fill-color);\n",
       "      border-bottom-color: var(--fill-color);\n",
       "    }\n",
       "    90% {\n",
       "      border-color: transparent;\n",
       "      border-bottom-color: var(--fill-color);\n",
       "    }\n",
       "  }\n",
       "</style>\n",
       "\n",
       "  <script>\n",
       "    async function quickchart(key) {\n",
       "      const quickchartButtonEl =\n",
       "        document.querySelector('#' + key + ' button');\n",
       "      quickchartButtonEl.disabled = true;  // To prevent multiple clicks.\n",
       "      quickchartButtonEl.classList.add('colab-df-spinner');\n",
       "      try {\n",
       "        const charts = await google.colab.kernel.invokeFunction(\n",
       "            'suggestCharts', [key], {});\n",
       "      } catch (error) {\n",
       "        console.error('Error during call to suggestCharts:', error);\n",
       "      }\n",
       "      quickchartButtonEl.classList.remove('colab-df-spinner');\n",
       "      quickchartButtonEl.classList.add('colab-df-quickchart-complete');\n",
       "    }\n",
       "    (() => {\n",
       "      let quickchartButtonEl =\n",
       "        document.querySelector('#df-81aa0494-8190-4e82-8834-48ada81c99ae button');\n",
       "      quickchartButtonEl.style.display =\n",
       "        google.colab.kernel.accessAllowed ? 'block' : 'none';\n",
       "    })();\n",
       "  </script>\n",
       "</div>\n",
       "\n",
       "    </div>\n",
       "  </div>\n"
      ],
      "text/plain": [
       "   row_number               post_date  \\\n",
       "0           1  12/9/24, 11:01AM (EST)   \n",
       "1           2   1/22/25, 1:00PM (EST)   \n",
       "2           3   1/17/25, 8:45AM (EST)   \n",
       "3           4   1/20/25, 9:00AM (EST)   \n",
       "4           5   1/16/25, 3:21PM (EST)   \n",
       "\n",
       "                                             content  like_count  comments  \\\n",
       "0  What are the factors shaping the future of fin...         437         4   \n",
       "1  How can tax and spending reforms reduce the na...          13         0   \n",
       "2  While leaders often succumb to \"not invented h...          34         0   \n",
       "3  Three professors weigh in on the impact of int...           3         0   \n",
       "4  While AI is transforming industries, its resou...          14         1   \n",
       "\n",
       "  media_type                                          image_url  \\\n",
       "0      Video                                          No images   \n",
       "1       Text                                          No images   \n",
       "2      Image  https://media.licdn.com/dms/image/v2/D4E10AQGn...   \n",
       "3       Text                                          No images   \n",
       "4       Text                                          No images   \n",
       "\n",
       "                                           video_url  \\\n",
       "0  https://dms.licdn.com/playlist/vid/dynamic/D56...   \n",
       "1                                          No videos   \n",
       "2                                          No videos   \n",
       "3                                          No videos   \n",
       "4                                          No videos   \n",
       "\n",
       "                                         article_url  \n",
       "0  https://www.linkedin.com/feed/hashtag/?keyword...  \n",
       "1  https://www.linkedin.com/feed/hashtag/?keyword...  \n",
       "2  https://www.linkedin.com/feed/hashtag/?keyword...  \n",
       "3  https://www.linkedin.com/in/ACoAABbbHCIBpUmuGM...  \n",
       "4  https://www.linkedin.com/feed/hashtag/?keyword...  "
      ]
     },
     "execution_count": 4,
     "metadata": {},
     "output_type": "execute_result"
    }
   ],
   "source": [
    "post_df.head()"
   ]
  },
  {
   "cell_type": "code",
   "execution_count": 5,
   "metadata": {
    "colab": {
     "base_uri": "https://localhost:8080/"
    },
    "executionInfo": {
     "elapsed": 144,
     "status": "ok",
     "timestamp": 1738315893861,
     "user": {
      "displayName": "Sichen Zhong",
      "userId": "05976141553128755948"
     },
     "user_tz": 300
    },
    "id": "hRuuYU_TKChZ",
    "outputId": "a2e1f156-d600-4ec0-af9b-138cdc488c52"
   },
   "outputs": [
    {
     "data": {
      "text/plain": [
       "20.0"
      ]
     },
     "execution_count": 5,
     "metadata": {},
     "output_type": "execute_result"
    }
   ],
   "source": [
    "post_df['like_count'].median()"
   ]
  },
  {
   "cell_type": "code",
   "execution_count": 6,
   "metadata": {
    "colab": {
     "base_uri": "https://localhost:8080/"
    },
    "executionInfo": {
     "elapsed": 145,
     "status": "ok",
     "timestamp": 1738315895263,
     "user": {
      "displayName": "Sichen Zhong",
      "userId": "05976141553128755948"
     },
     "user_tz": 300
    },
    "id": "WAa9sWQ2KFAh",
    "outputId": "285323f5-b6ab-4ee7-888f-73d501f85891"
   },
   "outputs": [
    {
     "name": "stdout",
     "output_type": "stream",
     "text": [
      "nonpreferred count: 131\n",
      "preferred count: 136\n"
     ]
    }
   ],
   "source": [
    "nonpreferred = post_df[post_df['like_count'] < post_df['like_count'].median()]\n",
    "preferred = post_df[post_df['like_count'] >= post_df['like_count'].median()]\n",
    "preferred_SFT = preferred.iloc[:10,:]\n",
    "preferred_DPO = preferred.iloc[10:,:]\n",
    "print('nonpreferred count:', nonpreferred.shape[0])\n",
    "print('preferred count:', preferred.shape[0])"
   ]
  },
  {
   "cell_type": "markdown",
   "metadata": {
    "id": "oU2lPGkELTEB"
   },
   "source": [
    "# SFT and DPO Dataset"
   ]
  },
  {
   "cell_type": "code",
   "execution_count": 13,
   "metadata": {
    "executionInfo": {
     "elapsed": 105,
     "status": "ok",
     "timestamp": 1738315960808,
     "user": {
      "displayName": "Sichen Zhong",
      "userId": "05976141553128755948"
     },
     "user_tz": 300
    },
    "id": "cExJhkufDQZP"
   },
   "outputs": [],
   "source": [
    "with open(\"SFT_data.jsonl\", 'w', encoding='utf-8') as jsonl_file:\n",
    "    # Loop through preferred_SFT DataFrame\n",
    "    for _, row in preferred_SFT.iterrows():\n",
    "        # Assuming 'content' contains the text you want to use\n",
    "        preferred_text = f\"{row['content']}\"\n",
    "\n",
    "        # Create a data entry for JSONL in the required structure\n",
    "        entry = {\n",
    "            \"messages\": [\n",
    "                {\n",
    "                    \"role\": \"system\",\n",
    "                    \"content\": \"Respond in the writing tone, style, voice, personality, perplexity, and burstiness of NYU’s Master’s program in Business, tailored for American social media sites.\"\n",
    "                },\n",
    "                {\n",
    "                    \"role\": \"user\",\n",
    "                    \"content\": \"\"  # If there's specific user input, populate it here\n",
    "                },\n",
    "                {\n",
    "                    \"role\": \"assistant\",\n",
    "                    \"content\": preferred_text\n",
    "                }\n",
    "            ]\n",
    "        }\n",
    "        # Write the entry as a JSON line\n",
    "        jsonl_file.write(json.dumps(entry, ensure_ascii=False) + '\\n')"
   ]
  },
  {
   "cell_type": "code",
   "execution_count": 34,
   "metadata": {
    "executionInfo": {
     "elapsed": 150,
     "status": "ok",
     "timestamp": 1738316830036,
     "user": {
      "displayName": "Sichen Zhong",
      "userId": "05976141553128755948"
     },
     "user_tz": 300
    },
    "id": "NPW6rFYeCUWE"
   },
   "outputs": [],
   "source": [
    "output_file = \"DPO_data.jsonl\"\n",
    "\n",
    "# The \"prompt\" you want for every example\n",
    "# (currently stored in 'user_message'[\"messages\"][0][\"content\"])\n",
    "# If you have multiple prompts or user messages, you'll need to adapt accordingly.\n",
    "prompt_text = ( \"Respond in the writing tone, style, voice, personality, perplexity, and burstiness of NYU’s Master’s program in Business, tailored for American social media sites.\")\n",
    "\n",
    "# Sort the 'preferred_DPO' DataFrame in descending order by 'like_count'\n",
    "preferred_DPO_sorted = preferred_DPO.sort_values(by=\"like_count\", ascending=False).reset_index(drop=True)\n",
    "\n",
    "# Sort the 'nonpreferred' DataFrame in ascending order by 'like_count'\n",
    "# then select only as many rows as in 'preferred_DPO_sorted'\n",
    "nonpreferred_DPO = (\n",
    "    nonpreferred\n",
    "    .sort_values(by=\"like_count\", ascending=True)\n",
    "    .head(len(preferred_DPO_sorted))\n",
    "    .reset_index(drop=True)\n",
    ")\n",
    "\n",
    "# Optional: warn if there's a mismatch\n",
    "if len(nonpreferred_DPO) < len(preferred_DPO_sorted):\n",
    "    print(\"Warning: Not enough nonpreferred entries to pair with all preferred DPO entries.\")\n",
    "\n",
    "# Build a standard supervised dataset: \"prompt\", \"completion\"\n",
    "# We ignore the nonpreferred output entirely\n",
    "dataset = []\n",
    "for i in range(len(preferred_DPO_sorted)):\n",
    "    # preferred answer\n",
    "    preferred_content = preferred_DPO_sorted.iloc[i][\"content\"]\n",
    "\n",
    "    # Construct a chat-based entry\n",
    "    entry = {\n",
    "        \"messages\": [\n",
    "            {\n",
    "                \"role\": \"system\",\n",
    "                \"content\": \"Respond in the writing tone, style, voice, personality, perplexity, and burstiness of NYU’s Master’s program in Business, tailored for American social media sites.\"\n",
    "            },\n",
    "            {\n",
    "                \"role\": \"user\",\n",
    "                \"content\": \"\"\n",
    "            },\n",
    "            {\n",
    "                \"role\": \"assistant\",\n",
    "                \"content\": preferred_content\n",
    "            }\n",
    "        ]\n",
    "    }\n",
    "    dataset.append(entry)\n",
    "\n",
    "# Write to JSONL\n",
    "with open(output_file, \"w\", encoding=\"utf-8\") as f:\n",
    "    for item in dataset:\n",
    "        f.write(json.dumps(item, ensure_ascii=False) + \"\\n\")\n"
   ]
  },
  {
   "cell_type": "code",
   "execution_count": 35,
   "metadata": {
    "colab": {
     "base_uri": "https://localhost:8080/",
     "height": 779
    },
    "executionInfo": {
     "elapsed": 129,
     "status": "ok",
     "timestamp": 1738316852202,
     "user": {
      "displayName": "Sichen Zhong",
      "userId": "05976141553128755948"
     },
     "user_tz": 300
    },
    "id": "WIaKKEaGB71i",
    "outputId": "8b3d3da4-b4ad-4577-f3c2-25101ad9e10e"
   },
   "outputs": [
    {
     "data": {
      "application/vnd.google.colaboratory.intrinsic+json": {
       "summary": "{\n  \"name\": \"preferred_DPO_sorted\",\n  \"rows\": 126,\n  \"fields\": [\n    {\n      \"column\": \"row_number\",\n      \"properties\": {\n        \"dtype\": \"number\",\n        \"std\": 70,\n        \"min\": 15,\n        \"max\": 264,\n        \"num_unique_values\": 126,\n        \"samples\": [\n          138,\n          28,\n          48\n        ],\n        \"semantic_type\": \"\",\n        \"description\": \"\"\n      }\n    },\n    {\n      \"column\": \"post_date\",\n      \"properties\": {\n        \"dtype\": \"string\",\n        \"num_unique_values\": 123,\n        \"samples\": [\n          \"8/5/24, 4:35PM (EST)\",\n          \"8/8/24, 3:05PM (EST)\",\n          \"7/9/24, 12:27PM (EST)\"\n        ],\n        \"semantic_type\": \"\",\n        \"description\": \"\"\n      }\n    },\n    {\n      \"column\": \"content\",\n      \"properties\": {\n        \"dtype\": \"string\",\n        \"num_unique_values\": 126,\n        \"samples\": [\n          \"In customers' interactions with a company, they rank being treated with dignity as the next most important element behind only the objective value they receive, says   The Wharton School   marketing professor   Cait Lamberton . She discussed her new book, \\\"Marketplace Dignity,\\\" to kick off our Ripple Effect podcast series exploring Wharton faculty authors in collaboration with the Wharton School Press:   https://whr.tn/4aHMj00 Breaking down consumers by their culture affects what dignity looks like to someone and how they respond to it, Lamberton added. For example, in the U.S. showing customers more respect can mean that they have even higher demands, as opposed to showing more grace to an organization.   hashtag # wharton   hashtag # consumerbehavior   hashtag # marketing\",\n          \"They say \\\"comparison is the thief of joy,\\\" and this can ring especially true during the holiday season.   The Wharton School   professor   Maurice Schweitzer , who's focused much of his research on emotions, has found that we tend to compare ourselves to other people to give meaning to our own lives.   He recommends making it your goal to \\\"have a more balanced and broader view,\\\" identifying opportunities to express gratitude for what you have.   hashtag # gratitude   hashtag # wellbeing   hashtag # happiness   hashtag # psychology\",\n          \"People will donate more if they are given an opportunity to express their preferences through a choice,   The Wharton School   marketing professor   Jonah Berger 's research found.   Ahead of the season of giving, Berger joined our Ripple Effect podcast's three-part \\\"Charitable Giving\\\" series to explain the findings and the role identity plays in pro-social behavior:   https://whr.tn/3YZTdtN By giving people the option to express themselves \\u2013 for example, through a \\\"vote\\\" between two options (cats or dogs?) by leaving coins in a tip jar \\u2014 organizations can encourage more donations. hashtag # donations   hashtag # charitablegiving   hashtag # givingtuesday   hashtag # consumerbehavior\"\n        ],\n        \"semantic_type\": \"\",\n        \"description\": \"\"\n      }\n    },\n    {\n      \"column\": \"like_count\",\n      \"properties\": {\n        \"dtype\": \"number\",\n        \"std\": 188,\n        \"min\": 20,\n        \"max\": 1195,\n        \"num_unique_values\": 81,\n        \"samples\": [\n          134,\n          1195,\n          224\n        ],\n        \"semantic_type\": \"\",\n        \"description\": \"\"\n      }\n    },\n    {\n      \"column\": \"comments\",\n      \"properties\": {\n        \"dtype\": \"number\",\n        \"std\": 18,\n        \"min\": 0,\n        \"max\": 158,\n        \"num_unique_values\": 25,\n        \"samples\": [\n          6,\n          14,\n          39\n        ],\n        \"semantic_type\": \"\",\n        \"description\": \"\"\n      }\n    },\n    {\n      \"column\": \"media_type\",\n      \"properties\": {\n        \"dtype\": \"category\",\n        \"num_unique_values\": 4,\n        \"samples\": [\n          \"Text\",\n          \"Article Link\",\n          \"Video\"\n        ],\n        \"semantic_type\": \"\",\n        \"description\": \"\"\n      }\n    },\n    {\n      \"column\": \"image_url\",\n      \"properties\": {\n        \"dtype\": \"category\",\n        \"num_unique_values\": 46,\n        \"samples\": [\n          \"https://media.licdn.com/dms/image/v2/D4E10AQFkkVC7HNqJDA/image-shrink_800/image-shrink_800/0/1707949201739?e=1738184400&v=beta&t=kCwaZCFemfFH84Z30E5p-G1jUFD3E4tbf5u5SdfbMfA\",\n          \"https://media.licdn.com/dms/image/v2/D4E10AQFAwTFjFhqYOA/image-shrink_800/image-shrink_800/0/1723052163535?e=1738184400&v=beta&t=gdkhyUOdoI7tMEyVFDBYsNtyJjK44Bg0dY8GeUVVumU\",\n          \"https://media.licdn.com/dms/image/v2/D4E10AQGPZBU2zkfYuQ/image-shrink_800/image-shrink_800/0/1715965022364?e=1738184400&v=beta&t=eD85Vi20peZ9sVB33TFohJg2n1auHP8hS6wxvV-9XJQ\"\n        ],\n        \"semantic_type\": \"\",\n        \"description\": \"\"\n      }\n    },\n    {\n      \"column\": \"video_url\",\n      \"properties\": {\n        \"dtype\": \"category\",\n        \"num_unique_values\": 2,\n        \"samples\": [\n          \"No videos\",\n          \"https://dms.licdn.com/playlist/vid/dynamic/D5610AQES2NknK-4ikg/BAQFfO9q-w?e=1738184400&v=beta&t=KX8fclqP-YvsNTCYoQa90P0blY_LKkKoMS8q_7-s72s\"\n        ],\n        \"semantic_type\": \"\",\n        \"description\": \"\"\n      }\n    },\n    {\n      \"column\": \"article_url\",\n      \"properties\": {\n        \"dtype\": \"string\",\n        \"num_unique_values\": 126,\n        \"samples\": [\n          \"https://www.linkedin.com/feed/hashtag/?keywords=marketing&highlightedUpdateUrns=urn%3Ali%3Aactivity%3A7203806303691935745; https://www.linkedin.com/in/ACoAAAB-f8kB_lRxt7ZavZG7dbp29f8vXTxaOsY; https://www.linkedin.com/company/the-wharton-school/; https://whr.tn/4aHMj00; https://www.linkedin.com/feed/hashtag/?keywords=wharton&highlightedUpdateUrns=urn%3Ali%3Aactivity%3A7203806303691935745; https://www.linkedin.com/feed/hashtag/?keywords=consumerbehavior&highlightedUpdateUrns=urn%3Ali%3Aactivity%3A7203806303691935745\",\n          \"https://www.linkedin.com/feed/hashtag/?keywords=wellbeing&highlightedUpdateUrns=urn%3Ali%3Aactivity%3A7275888081319165953; https://www.linkedin.com/feed/hashtag/?keywords=psychology&highlightedUpdateUrns=urn%3Ali%3Aactivity%3A7275888081319165953; https://www.linkedin.com/feed/hashtag/?keywords=gratitude&highlightedUpdateUrns=urn%3Ali%3Aactivity%3A7275888081319165953; https://www.linkedin.com/feed/hashtag/?keywords=happiness&highlightedUpdateUrns=urn%3Ali%3Aactivity%3A7275888081319165953; https://www.linkedin.com/in/ACoAAAcq-lwBEmI9tNgH8_3pMVokhZ-YHePvbVI; https://www.linkedin.com/company/the-wharton-school/\"\n        ],\n        \"semantic_type\": \"\",\n        \"description\": \"\"\n      }\n    }\n  ]\n}",
       "type": "dataframe",
       "variable_name": "preferred_DPO_sorted"
      },
      "text/html": [
       "\n",
       "  <div id=\"df-b8018390-5d7c-4586-9f7d-6048d9ebea5f\" class=\"colab-df-container\">\n",
       "    <div>\n",
       "<style scoped>\n",
       "    .dataframe tbody tr th:only-of-type {\n",
       "        vertical-align: middle;\n",
       "    }\n",
       "\n",
       "    .dataframe tbody tr th {\n",
       "        vertical-align: top;\n",
       "    }\n",
       "\n",
       "    .dataframe thead th {\n",
       "        text-align: right;\n",
       "    }\n",
       "</style>\n",
       "<table border=\"1\" class=\"dataframe\">\n",
       "  <thead>\n",
       "    <tr style=\"text-align: right;\">\n",
       "      <th></th>\n",
       "      <th>row_number</th>\n",
       "      <th>post_date</th>\n",
       "      <th>content</th>\n",
       "      <th>like_count</th>\n",
       "      <th>comments</th>\n",
       "      <th>media_type</th>\n",
       "      <th>image_url</th>\n",
       "      <th>video_url</th>\n",
       "      <th>article_url</th>\n",
       "    </tr>\n",
       "  </thead>\n",
       "  <tbody>\n",
       "    <tr>\n",
       "      <th>0</th>\n",
       "      <td>22</td>\n",
       "      <td>12/31/24, 11:05AM (EST)</td>\n",
       "      <td>Is AI really transforming the workplace?   Not...</td>\n",
       "      <td>1195</td>\n",
       "      <td>39</td>\n",
       "      <td>Video</td>\n",
       "      <td>No images</td>\n",
       "      <td>https://dms.licdn.com/playlist/vid/dynamic/D56...</td>\n",
       "      <td>https://www.linkedin.com/feed/hashtag/?keyword...</td>\n",
       "    </tr>\n",
       "    <tr>\n",
       "      <th>1</th>\n",
       "      <td>34</td>\n",
       "      <td>12/12/24, 1:07PM (EST)</td>\n",
       "      <td>AI should not be viewed as just a tech challen...</td>\n",
       "      <td>896</td>\n",
       "      <td>23</td>\n",
       "      <td>Video</td>\n",
       "      <td>No images</td>\n",
       "      <td>https://dms.licdn.com/playlist/vid/dynamic/D56...</td>\n",
       "      <td>https://www.linkedin.com/feed/hashtag/?keyword...</td>\n",
       "    </tr>\n",
       "    <tr>\n",
       "      <th>2</th>\n",
       "      <td>91</td>\n",
       "      <td>10/1/24, 12:49PM (EST)</td>\n",
       "      <td>The U.S. has a national debt problem, and a cr...</td>\n",
       "      <td>723</td>\n",
       "      <td>50</td>\n",
       "      <td>Video</td>\n",
       "      <td>No images</td>\n",
       "      <td>https://dms.licdn.com/playlist/vid/dynamic/D56...</td>\n",
       "      <td>https://www.linkedin.com/feed/hashtag/?keyword...</td>\n",
       "    </tr>\n",
       "    <tr>\n",
       "      <th>3</th>\n",
       "      <td>157</td>\n",
       "      <td>4/16/24, 2:45PM (EST)</td>\n",
       "      <td>To use AI for your personal finances, you must...</td>\n",
       "      <td>627</td>\n",
       "      <td>11</td>\n",
       "      <td>Video</td>\n",
       "      <td>No images</td>\n",
       "      <td>https://dms.licdn.com/playlist/vid/dynamic/D56...</td>\n",
       "      <td>https://www.linkedin.com/feed/hashtag/?keyword...</td>\n",
       "    </tr>\n",
       "    <tr>\n",
       "      <th>4</th>\n",
       "      <td>203</td>\n",
       "      <td>5/29/24, 3:00PM (EST)</td>\n",
       "      <td>NEWS: We are excited to announce the   Wharton...</td>\n",
       "      <td>588</td>\n",
       "      <td>12</td>\n",
       "      <td>Text</td>\n",
       "      <td>No images</td>\n",
       "      <td>No videos</td>\n",
       "      <td>https://www.linkedin.com/feed/hashtag/?keyword...</td>\n",
       "    </tr>\n",
       "    <tr>\n",
       "      <th>...</th>\n",
       "      <td>...</td>\n",
       "      <td>...</td>\n",
       "      <td>...</td>\n",
       "      <td>...</td>\n",
       "      <td>...</td>\n",
       "      <td>...</td>\n",
       "      <td>...</td>\n",
       "      <td>...</td>\n",
       "      <td>...</td>\n",
       "    </tr>\n",
       "    <tr>\n",
       "      <th>121</th>\n",
       "      <td>63</td>\n",
       "      <td>11/14/24, 12:05PM (EST)</td>\n",
       "      <td>What lessons can be learned from the 2023 Sili...</td>\n",
       "      <td>21</td>\n",
       "      <td>0</td>\n",
       "      <td>Video</td>\n",
       "      <td>No images</td>\n",
       "      <td>https://dms.licdn.com/playlist/vid/dynamic/D56...</td>\n",
       "      <td>https://www.linkedin.com/company/bis/; https:/...</td>\n",
       "    </tr>\n",
       "    <tr>\n",
       "      <th>122</th>\n",
       "      <td>72</td>\n",
       "      <td>9/5/24, 6:00PM (EST)</td>\n",
       "      <td>What does it take for AI to win our trust? Man...</td>\n",
       "      <td>20</td>\n",
       "      <td>0</td>\n",
       "      <td>Text</td>\n",
       "      <td>No images</td>\n",
       "      <td>No videos</td>\n",
       "      <td>https://www.linkedin.com/in/ACoAAAMhzfoBDyftMy...</td>\n",
       "    </tr>\n",
       "    <tr>\n",
       "      <th>123</th>\n",
       "      <td>47</td>\n",
       "      <td>11/20/24, 3:05PM (EST)</td>\n",
       "      <td>Why do meme stock phenomena happen, and what c...</td>\n",
       "      <td>20</td>\n",
       "      <td>0</td>\n",
       "      <td>Video</td>\n",
       "      <td>No images</td>\n",
       "      <td>https://dms.licdn.com/playlist/vid/dynamic/D56...</td>\n",
       "      <td>https://whr.tn/40U9nau; https://www.linkedin.c...</td>\n",
       "    </tr>\n",
       "    <tr>\n",
       "      <th>124</th>\n",
       "      <td>59</td>\n",
       "      <td>4mo •   \\n \\n   4 months ago</td>\n",
       "      <td>The Wharton School   Professor   Ethan Mollick...</td>\n",
       "      <td>20</td>\n",
       "      <td>1</td>\n",
       "      <td>Text</td>\n",
       "      <td>No images</td>\n",
       "      <td>No videos</td>\n",
       "      <td>https://www.linkedin.com/company/time/; https:...</td>\n",
       "    </tr>\n",
       "    <tr>\n",
       "      <th>125</th>\n",
       "      <td>230</td>\n",
       "      <td>8/21/24, 3:37PM (EST)</td>\n",
       "      <td>This   hashtag # WorldEntrepreneursDay , revis...</td>\n",
       "      <td>20</td>\n",
       "      <td>3</td>\n",
       "      <td>Image</td>\n",
       "      <td>https://media.licdn.com/dms/image/v2/D4D10AQHM...</td>\n",
       "      <td>No videos</td>\n",
       "      <td>https://whr.tn/4cns2OA; https://www.linkedin.c...</td>\n",
       "    </tr>\n",
       "  </tbody>\n",
       "</table>\n",
       "<p>126 rows × 9 columns</p>\n",
       "</div>\n",
       "    <div class=\"colab-df-buttons\">\n",
       "\n",
       "  <div class=\"colab-df-container\">\n",
       "    <button class=\"colab-df-convert\" onclick=\"convertToInteractive('df-b8018390-5d7c-4586-9f7d-6048d9ebea5f')\"\n",
       "            title=\"Convert this dataframe to an interactive table.\"\n",
       "            style=\"display:none;\">\n",
       "\n",
       "  <svg xmlns=\"http://www.w3.org/2000/svg\" height=\"24px\" viewBox=\"0 -960 960 960\">\n",
       "    <path d=\"M120-120v-720h720v720H120Zm60-500h600v-160H180v160Zm220 220h160v-160H400v160Zm0 220h160v-160H400v160ZM180-400h160v-160H180v160Zm440 0h160v-160H620v160ZM180-180h160v-160H180v160Zm440 0h160v-160H620v160Z\"/>\n",
       "  </svg>\n",
       "    </button>\n",
       "\n",
       "  <style>\n",
       "    .colab-df-container {\n",
       "      display:flex;\n",
       "      gap: 12px;\n",
       "    }\n",
       "\n",
       "    .colab-df-convert {\n",
       "      background-color: #E8F0FE;\n",
       "      border: none;\n",
       "      border-radius: 50%;\n",
       "      cursor: pointer;\n",
       "      display: none;\n",
       "      fill: #1967D2;\n",
       "      height: 32px;\n",
       "      padding: 0 0 0 0;\n",
       "      width: 32px;\n",
       "    }\n",
       "\n",
       "    .colab-df-convert:hover {\n",
       "      background-color: #E2EBFA;\n",
       "      box-shadow: 0px 1px 2px rgba(60, 64, 67, 0.3), 0px 1px 3px 1px rgba(60, 64, 67, 0.15);\n",
       "      fill: #174EA6;\n",
       "    }\n",
       "\n",
       "    .colab-df-buttons div {\n",
       "      margin-bottom: 4px;\n",
       "    }\n",
       "\n",
       "    [theme=dark] .colab-df-convert {\n",
       "      background-color: #3B4455;\n",
       "      fill: #D2E3FC;\n",
       "    }\n",
       "\n",
       "    [theme=dark] .colab-df-convert:hover {\n",
       "      background-color: #434B5C;\n",
       "      box-shadow: 0px 1px 3px 1px rgba(0, 0, 0, 0.15);\n",
       "      filter: drop-shadow(0px 1px 2px rgba(0, 0, 0, 0.3));\n",
       "      fill: #FFFFFF;\n",
       "    }\n",
       "  </style>\n",
       "\n",
       "    <script>\n",
       "      const buttonEl =\n",
       "        document.querySelector('#df-b8018390-5d7c-4586-9f7d-6048d9ebea5f button.colab-df-convert');\n",
       "      buttonEl.style.display =\n",
       "        google.colab.kernel.accessAllowed ? 'block' : 'none';\n",
       "\n",
       "      async function convertToInteractive(key) {\n",
       "        const element = document.querySelector('#df-b8018390-5d7c-4586-9f7d-6048d9ebea5f');\n",
       "        const dataTable =\n",
       "          await google.colab.kernel.invokeFunction('convertToInteractive',\n",
       "                                                    [key], {});\n",
       "        if (!dataTable) return;\n",
       "\n",
       "        const docLinkHtml = 'Like what you see? Visit the ' +\n",
       "          '<a target=\"_blank\" href=https://colab.research.google.com/notebooks/data_table.ipynb>data table notebook</a>'\n",
       "          + ' to learn more about interactive tables.';\n",
       "        element.innerHTML = '';\n",
       "        dataTable['output_type'] = 'display_data';\n",
       "        await google.colab.output.renderOutput(dataTable, element);\n",
       "        const docLink = document.createElement('div');\n",
       "        docLink.innerHTML = docLinkHtml;\n",
       "        element.appendChild(docLink);\n",
       "      }\n",
       "    </script>\n",
       "  </div>\n",
       "\n",
       "\n",
       "<div id=\"df-68938a3a-5809-4e65-b641-a117b86f2744\">\n",
       "  <button class=\"colab-df-quickchart\" onclick=\"quickchart('df-68938a3a-5809-4e65-b641-a117b86f2744')\"\n",
       "            title=\"Suggest charts\"\n",
       "            style=\"display:none;\">\n",
       "\n",
       "<svg xmlns=\"http://www.w3.org/2000/svg\" height=\"24px\"viewBox=\"0 0 24 24\"\n",
       "     width=\"24px\">\n",
       "    <g>\n",
       "        <path d=\"M19 3H5c-1.1 0-2 .9-2 2v14c0 1.1.9 2 2 2h14c1.1 0 2-.9 2-2V5c0-1.1-.9-2-2-2zM9 17H7v-7h2v7zm4 0h-2V7h2v10zm4 0h-2v-4h2v4z\"/>\n",
       "    </g>\n",
       "</svg>\n",
       "  </button>\n",
       "\n",
       "<style>\n",
       "  .colab-df-quickchart {\n",
       "      --bg-color: #E8F0FE;\n",
       "      --fill-color: #1967D2;\n",
       "      --hover-bg-color: #E2EBFA;\n",
       "      --hover-fill-color: #174EA6;\n",
       "      --disabled-fill-color: #AAA;\n",
       "      --disabled-bg-color: #DDD;\n",
       "  }\n",
       "\n",
       "  [theme=dark] .colab-df-quickchart {\n",
       "      --bg-color: #3B4455;\n",
       "      --fill-color: #D2E3FC;\n",
       "      --hover-bg-color: #434B5C;\n",
       "      --hover-fill-color: #FFFFFF;\n",
       "      --disabled-bg-color: #3B4455;\n",
       "      --disabled-fill-color: #666;\n",
       "  }\n",
       "\n",
       "  .colab-df-quickchart {\n",
       "    background-color: var(--bg-color);\n",
       "    border: none;\n",
       "    border-radius: 50%;\n",
       "    cursor: pointer;\n",
       "    display: none;\n",
       "    fill: var(--fill-color);\n",
       "    height: 32px;\n",
       "    padding: 0;\n",
       "    width: 32px;\n",
       "  }\n",
       "\n",
       "  .colab-df-quickchart:hover {\n",
       "    background-color: var(--hover-bg-color);\n",
       "    box-shadow: 0 1px 2px rgba(60, 64, 67, 0.3), 0 1px 3px 1px rgba(60, 64, 67, 0.15);\n",
       "    fill: var(--button-hover-fill-color);\n",
       "  }\n",
       "\n",
       "  .colab-df-quickchart-complete:disabled,\n",
       "  .colab-df-quickchart-complete:disabled:hover {\n",
       "    background-color: var(--disabled-bg-color);\n",
       "    fill: var(--disabled-fill-color);\n",
       "    box-shadow: none;\n",
       "  }\n",
       "\n",
       "  .colab-df-spinner {\n",
       "    border: 2px solid var(--fill-color);\n",
       "    border-color: transparent;\n",
       "    border-bottom-color: var(--fill-color);\n",
       "    animation:\n",
       "      spin 1s steps(1) infinite;\n",
       "  }\n",
       "\n",
       "  @keyframes spin {\n",
       "    0% {\n",
       "      border-color: transparent;\n",
       "      border-bottom-color: var(--fill-color);\n",
       "      border-left-color: var(--fill-color);\n",
       "    }\n",
       "    20% {\n",
       "      border-color: transparent;\n",
       "      border-left-color: var(--fill-color);\n",
       "      border-top-color: var(--fill-color);\n",
       "    }\n",
       "    30% {\n",
       "      border-color: transparent;\n",
       "      border-left-color: var(--fill-color);\n",
       "      border-top-color: var(--fill-color);\n",
       "      border-right-color: var(--fill-color);\n",
       "    }\n",
       "    40% {\n",
       "      border-color: transparent;\n",
       "      border-right-color: var(--fill-color);\n",
       "      border-top-color: var(--fill-color);\n",
       "    }\n",
       "    60% {\n",
       "      border-color: transparent;\n",
       "      border-right-color: var(--fill-color);\n",
       "    }\n",
       "    80% {\n",
       "      border-color: transparent;\n",
       "      border-right-color: var(--fill-color);\n",
       "      border-bottom-color: var(--fill-color);\n",
       "    }\n",
       "    90% {\n",
       "      border-color: transparent;\n",
       "      border-bottom-color: var(--fill-color);\n",
       "    }\n",
       "  }\n",
       "</style>\n",
       "\n",
       "  <script>\n",
       "    async function quickchart(key) {\n",
       "      const quickchartButtonEl =\n",
       "        document.querySelector('#' + key + ' button');\n",
       "      quickchartButtonEl.disabled = true;  // To prevent multiple clicks.\n",
       "      quickchartButtonEl.classList.add('colab-df-spinner');\n",
       "      try {\n",
       "        const charts = await google.colab.kernel.invokeFunction(\n",
       "            'suggestCharts', [key], {});\n",
       "      } catch (error) {\n",
       "        console.error('Error during call to suggestCharts:', error);\n",
       "      }\n",
       "      quickchartButtonEl.classList.remove('colab-df-spinner');\n",
       "      quickchartButtonEl.classList.add('colab-df-quickchart-complete');\n",
       "    }\n",
       "    (() => {\n",
       "      let quickchartButtonEl =\n",
       "        document.querySelector('#df-68938a3a-5809-4e65-b641-a117b86f2744 button');\n",
       "      quickchartButtonEl.style.display =\n",
       "        google.colab.kernel.accessAllowed ? 'block' : 'none';\n",
       "    })();\n",
       "  </script>\n",
       "</div>\n",
       "\n",
       "  <div id=\"id_65fac353-fe78-4d3c-9c5f-c534c6b86b97\">\n",
       "    <style>\n",
       "      .colab-df-generate {\n",
       "        background-color: #E8F0FE;\n",
       "        border: none;\n",
       "        border-radius: 50%;\n",
       "        cursor: pointer;\n",
       "        display: none;\n",
       "        fill: #1967D2;\n",
       "        height: 32px;\n",
       "        padding: 0 0 0 0;\n",
       "        width: 32px;\n",
       "      }\n",
       "\n",
       "      .colab-df-generate:hover {\n",
       "        background-color: #E2EBFA;\n",
       "        box-shadow: 0px 1px 2px rgba(60, 64, 67, 0.3), 0px 1px 3px 1px rgba(60, 64, 67, 0.15);\n",
       "        fill: #174EA6;\n",
       "      }\n",
       "\n",
       "      [theme=dark] .colab-df-generate {\n",
       "        background-color: #3B4455;\n",
       "        fill: #D2E3FC;\n",
       "      }\n",
       "\n",
       "      [theme=dark] .colab-df-generate:hover {\n",
       "        background-color: #434B5C;\n",
       "        box-shadow: 0px 1px 3px 1px rgba(0, 0, 0, 0.15);\n",
       "        filter: drop-shadow(0px 1px 2px rgba(0, 0, 0, 0.3));\n",
       "        fill: #FFFFFF;\n",
       "      }\n",
       "    </style>\n",
       "    <button class=\"colab-df-generate\" onclick=\"generateWithVariable('preferred_DPO_sorted')\"\n",
       "            title=\"Generate code using this dataframe.\"\n",
       "            style=\"display:none;\">\n",
       "\n",
       "  <svg xmlns=\"http://www.w3.org/2000/svg\" height=\"24px\"viewBox=\"0 0 24 24\"\n",
       "       width=\"24px\">\n",
       "    <path d=\"M7,19H8.4L18.45,9,17,7.55,7,17.6ZM5,21V16.75L18.45,3.32a2,2,0,0,1,2.83,0l1.4,1.43a1.91,1.91,0,0,1,.58,1.4,1.91,1.91,0,0,1-.58,1.4L9.25,21ZM18.45,9,17,7.55Zm-12,3A5.31,5.31,0,0,0,4.9,8.1,5.31,5.31,0,0,0,1,6.5,5.31,5.31,0,0,0,4.9,4.9,5.31,5.31,0,0,0,6.5,1,5.31,5.31,0,0,0,8.1,4.9,5.31,5.31,0,0,0,12,6.5,5.46,5.46,0,0,0,6.5,12Z\"/>\n",
       "  </svg>\n",
       "    </button>\n",
       "    <script>\n",
       "      (() => {\n",
       "      const buttonEl =\n",
       "        document.querySelector('#id_65fac353-fe78-4d3c-9c5f-c534c6b86b97 button.colab-df-generate');\n",
       "      buttonEl.style.display =\n",
       "        google.colab.kernel.accessAllowed ? 'block' : 'none';\n",
       "\n",
       "      buttonEl.onclick = () => {\n",
       "        google.colab.notebook.generateWithVariable('preferred_DPO_sorted');\n",
       "      }\n",
       "      })();\n",
       "    </script>\n",
       "  </div>\n",
       "\n",
       "    </div>\n",
       "  </div>\n"
      ],
      "text/plain": [
       "     row_number                     post_date  \\\n",
       "0            22       12/31/24, 11:05AM (EST)   \n",
       "1            34        12/12/24, 1:07PM (EST)   \n",
       "2            91        10/1/24, 12:49PM (EST)   \n",
       "3           157         4/16/24, 2:45PM (EST)   \n",
       "4           203         5/29/24, 3:00PM (EST)   \n",
       "..          ...                           ...   \n",
       "121          63       11/14/24, 12:05PM (EST)   \n",
       "122          72          9/5/24, 6:00PM (EST)   \n",
       "123          47        11/20/24, 3:05PM (EST)   \n",
       "124          59  4mo •   \\n \\n   4 months ago   \n",
       "125         230         8/21/24, 3:37PM (EST)   \n",
       "\n",
       "                                               content  like_count  comments  \\\n",
       "0    Is AI really transforming the workplace?   Not...        1195        39   \n",
       "1    AI should not be viewed as just a tech challen...         896        23   \n",
       "2    The U.S. has a national debt problem, and a cr...         723        50   \n",
       "3    To use AI for your personal finances, you must...         627        11   \n",
       "4    NEWS: We are excited to announce the   Wharton...         588        12   \n",
       "..                                                 ...         ...       ...   \n",
       "121  What lessons can be learned from the 2023 Sili...          21         0   \n",
       "122  What does it take for AI to win our trust? Man...          20         0   \n",
       "123  Why do meme stock phenomena happen, and what c...          20         0   \n",
       "124  The Wharton School   Professor   Ethan Mollick...          20         1   \n",
       "125  This   hashtag # WorldEntrepreneursDay , revis...          20         3   \n",
       "\n",
       "    media_type                                          image_url  \\\n",
       "0        Video                                          No images   \n",
       "1        Video                                          No images   \n",
       "2        Video                                          No images   \n",
       "3        Video                                          No images   \n",
       "4         Text                                          No images   \n",
       "..         ...                                                ...   \n",
       "121      Video                                          No images   \n",
       "122       Text                                          No images   \n",
       "123      Video                                          No images   \n",
       "124       Text                                          No images   \n",
       "125      Image  https://media.licdn.com/dms/image/v2/D4D10AQHM...   \n",
       "\n",
       "                                             video_url  \\\n",
       "0    https://dms.licdn.com/playlist/vid/dynamic/D56...   \n",
       "1    https://dms.licdn.com/playlist/vid/dynamic/D56...   \n",
       "2    https://dms.licdn.com/playlist/vid/dynamic/D56...   \n",
       "3    https://dms.licdn.com/playlist/vid/dynamic/D56...   \n",
       "4                                            No videos   \n",
       "..                                                 ...   \n",
       "121  https://dms.licdn.com/playlist/vid/dynamic/D56...   \n",
       "122                                          No videos   \n",
       "123  https://dms.licdn.com/playlist/vid/dynamic/D56...   \n",
       "124                                          No videos   \n",
       "125                                          No videos   \n",
       "\n",
       "                                           article_url  \n",
       "0    https://www.linkedin.com/feed/hashtag/?keyword...  \n",
       "1    https://www.linkedin.com/feed/hashtag/?keyword...  \n",
       "2    https://www.linkedin.com/feed/hashtag/?keyword...  \n",
       "3    https://www.linkedin.com/feed/hashtag/?keyword...  \n",
       "4    https://www.linkedin.com/feed/hashtag/?keyword...  \n",
       "..                                                 ...  \n",
       "121  https://www.linkedin.com/company/bis/; https:/...  \n",
       "122  https://www.linkedin.com/in/ACoAAAMhzfoBDyftMy...  \n",
       "123  https://whr.tn/40U9nau; https://www.linkedin.c...  \n",
       "124  https://www.linkedin.com/company/time/; https:...  \n",
       "125  https://whr.tn/4cns2OA; https://www.linkedin.c...  \n",
       "\n",
       "[126 rows x 9 columns]"
      ]
     },
     "execution_count": 35,
     "metadata": {},
     "output_type": "execute_result"
    }
   ],
   "source": [
    "preferred_DPO_sorted"
   ]
  },
  {
   "cell_type": "markdown",
   "metadata": {
    "id": "UQcOFzuDLX7U"
   },
   "source": [
    "# Finetune Models"
   ]
  },
  {
   "cell_type": "code",
   "execution_count": null,
   "metadata": {
    "executionInfo": {
     "elapsed": 121,
     "status": "ok",
     "timestamp": 1738316856749,
     "user": {
      "displayName": "Sichen Zhong",
      "userId": "05976141553128755948"
     },
     "user_tz": 300
    },
    "id": "SCH0qGElbl_k"
   },
   "outputs": [],
   "source": [
    "with open('/content/drive/MyDrive/Marketing Analytics Course Preparation/Sichen/NYU Stern Social Media/Model Creation/data/API_key.txt', 'r') as f:  # Replace with your file path\n",
    "       API_key = f.read()\n",
    "openai.api_key = API_key\n",
    "baseline_model = \"gpt-3.5-turbo\""
   ]
  },
  {
   "cell_type": "code",
   "execution_count": 37,
   "metadata": {
    "colab": {
     "base_uri": "https://localhost:8080/"
    },
    "executionInfo": {
     "elapsed": 1485,
     "status": "ok",
     "timestamp": 1738316860915,
     "user": {
      "displayName": "Sichen Zhong",
      "userId": "05976141553128755948"
     },
     "user_tz": 300
    },
    "id": "yeBHYvLSaxPK",
    "outputId": "2331a01a-ad69-49fe-f23d-075fc138e221"
   },
   "outputs": [
    {
     "name": "stdout",
     "output_type": "stream",
     "text": [
      "Uploaded SFT_data.jsonl: file-B6K6ACwsgGPQb8Qjfm9B3A\n",
      "Uploaded DPO_data.jsonl: file-N8BLoGUSoHYakPDkYt6b7n\n"
     ]
    }
   ],
   "source": [
    "def upload_file(file_path, purpose):\n",
    "    try:\n",
    "        response = openai.File.create(\n",
    "            file=open(file_path, \"rb\"),\n",
    "            purpose=purpose\n",
    "        )\n",
    "        print(f\"Uploaded {file_path}: {response['id']}\")\n",
    "        return response['id']\n",
    "    except Exception as e:\n",
    "        print(f\"Error uploading {file_path}: {e}\")\n",
    "        return None\n",
    "\n",
    "# Upload SFT dataset\n",
    "sft_file_path = \"SFT_data.jsonl\"\n",
    "sft_file_id = upload_file(sft_file_path, purpose=\"fine-tune\")\n",
    "\n",
    "# Upload DPO dataset\n",
    "dpo_file_path = \"DPO_data.jsonl\"\n",
    "dpo_file_id = upload_file(dpo_file_path, purpose=\"fine-tune\")"
   ]
  },
  {
   "cell_type": "code",
   "execution_count": 18,
   "metadata": {
    "colab": {
     "base_uri": "https://localhost:8080/"
    },
    "executionInfo": {
     "elapsed": 1155,
     "status": "ok",
     "timestamp": 1738316002589,
     "user": {
      "displayName": "Sichen Zhong",
      "userId": "05976141553128755948"
     },
     "user_tz": 300
    },
    "id": "-q7hR2LKgozd",
    "outputId": "12cf4bd6-0a46-42d6-8dd8-a7daca6d02a3"
   },
   "outputs": [
    {
     "name": "stdout",
     "output_type": "stream",
     "text": [
      "Started SFT fine-tuning: ftjob-Ww0jRhFFHX4DI78In8XiAPbK\n"
     ]
    }
   ],
   "source": [
    "try:\n",
    "    fine_tune_response_sft = openai.FineTuningJob.create(\n",
    "        training_file=sft_file_id,\n",
    "        model=baseline_model,\n",
    "        hyperparameters={\n",
    "            \"n_epochs\": 4,\n",
    "            \"learning_rate_multiplier\": 0.1\n",
    "            # \"batch_size\": 32,\n",
    "        },\n",
    "        suffix=\"SFT-model\"\n",
    "    )\n",
    "    print(f\"Started SFT fine-tuning: {fine_tune_response_sft['id']}\")\n",
    "except Exception as e:\n",
    "    print(f\"Error during SFT fine-tuning: {e}\")\n",
    "    raise e\n"
   ]
  },
  {
   "cell_type": "code",
   "execution_count": 19,
   "metadata": {
    "colab": {
     "base_uri": "https://localhost:8080/"
    },
    "executionInfo": {
     "elapsed": 301052,
     "status": "ok",
     "timestamp": 1738316306463,
     "user": {
      "displayName": "Sichen Zhong",
      "userId": "05976141553128755948"
     },
     "user_tz": 300
    },
    "id": "tuwDaSaEg_XI",
    "outputId": "f94fb3f6-3905-4b3b-cebb-4bb4a7f70661"
   },
   "outputs": [
    {
     "name": "stdout",
     "output_type": "stream",
     "text": [
      "Job status: validating_files\n",
      "Job status: validating_files\n",
      "Job status: running\n",
      "Job status: running\n",
      "Job status: running\n",
      "Job status: succeeded\n",
      "Fine-tuning succeeded!\n",
      "New model name: ft:gpt-3.5-turbo-0125:personal:sft-model:AvhkrpsD\n"
     ]
    }
   ],
   "source": [
    "job_id = fine_tune_response_sft['id']\n",
    "fine_tuned_model_name = None\n",
    "\n",
    "while True:\n",
    "    job_status = openai.FineTuningJob.retrieve(job_id)\n",
    "    status = job_status[\"status\"]\n",
    "    print(f\"Job status: {status}\")\n",
    "\n",
    "    if status in [\"succeeded\", \"failed\", \"cancelled\"]:\n",
    "        # Job is done\n",
    "        if status == \"succeeded\":\n",
    "            # Set the model name only when it first succeeds\n",
    "            fine_tuned_model_name = job_status[\"fine_tuned_model\"]\n",
    "            print(\"Fine-tuning succeeded!\")\n",
    "            print(\"New model name:\", fine_tuned_model_name)\n",
    "        else:\n",
    "            print(f\"Fine-tuning job ended with status: {status}\")\n",
    "        break\n",
    "\n",
    "    # Wait for 60 seconds (or any interval you want) before checking again.\n",
    "    time.sleep(60)"
   ]
  },
  {
   "cell_type": "code",
   "execution_count": 38,
   "metadata": {
    "colab": {
     "base_uri": "https://localhost:8080/"
    },
    "executionInfo": {
     "elapsed": 1130,
     "status": "ok",
     "timestamp": 1738316866039,
     "user": {
      "displayName": "Sichen Zhong",
      "userId": "05976141553128755948"
     },
     "user_tz": 300
    },
    "id": "CwN9lcWMkV27",
    "outputId": "b77feee0-494f-451e-b473-8b540bac6ba7"
   },
   "outputs": [
    {
     "name": "stdout",
     "output_type": "stream",
     "text": [
      "Started DPO fine-tuning: ftjob-nV0nBkf3fBD8A1Gn0H8YxIL5\n"
     ]
    }
   ],
   "source": [
    "try:\n",
    "    fine_tune_response_dpo = openai.FineTuningJob.create(\n",
    "        training_file=dpo_file_id,\n",
    "        model=baseline_model,\n",
    "        hyperparameters={\n",
    "            \"n_epochs\": 4,\n",
    "            \"learning_rate_multiplier\": 0.1\n",
    "        },\n",
    "        suffix=\"DPO-model\"\n",
    "    )\n",
    "    print(f\"Started DPO fine-tuning: {fine_tune_response_dpo['id']}\")\n",
    "except Exception as e:\n",
    "    print(f\"Error during DPO fine-tuning: {e}\")\n",
    "    raise e"
   ]
  },
  {
   "cell_type": "code",
   "execution_count": 39,
   "metadata": {
    "colab": {
     "base_uri": "https://localhost:8080/"
    },
    "executionInfo": {
     "elapsed": 963356,
     "status": "ok",
     "timestamp": 1738317831166,
     "user": {
      "displayName": "Sichen Zhong",
      "userId": "05976141553128755948"
     },
     "user_tz": 300
    },
    "id": "oAcWXycbjzbI",
    "outputId": "0b72c4d9-03f2-4ad6-eb75-8e314eb50caf"
   },
   "outputs": [
    {
     "name": "stdout",
     "output_type": "stream",
     "text": [
      "Job status: validating_files\n",
      "Job status: validating_files\n",
      "Job status: running\n",
      "Job status: running\n",
      "Job status: running\n",
      "Job status: running\n",
      "Job status: running\n",
      "Job status: running\n",
      "Job status: running\n",
      "Job status: running\n",
      "Job status: running\n",
      "Job status: running\n",
      "Job status: running\n",
      "Job status: running\n",
      "Job status: running\n",
      "Job status: running\n",
      "Job status: succeeded\n",
      "Fine-tuning succeeded!\n",
      "New model name: ft:gpt-3.5-turbo-0125:personal:dpo-model:Avi9Q9Fk\n"
     ]
    }
   ],
   "source": [
    "job_id = fine_tune_response_dpo['id']\n",
    "fine_tuned_model_name = None\n",
    "\n",
    "while True:\n",
    "    job_status = openai.FineTuningJob.retrieve(job_id)\n",
    "    status = job_status[\"status\"]\n",
    "    print(f\"Job status: {status}\")\n",
    "\n",
    "    if status in [\"succeeded\", \"failed\", \"cancelled\"]:\n",
    "        # Job is done\n",
    "        if status == \"succeeded\":\n",
    "            # Set the model name only when it first succeeds\n",
    "            fine_tuned_model_name = job_status[\"fine_tuned_model\"]\n",
    "            print(\"Fine-tuning succeeded!\")\n",
    "            print(\"New model name:\", fine_tuned_model_name)\n",
    "        else:\n",
    "            print(f\"Fine-tuning job ended with status: {status}\")\n",
    "        break\n",
    "\n",
    "    # Wait for 60 seconds (or any interval you want) before checking again.\n",
    "    time.sleep(60)"
   ]
  },
  {
   "cell_type": "code",
   "execution_count": 23,
   "metadata": {
    "colab": {
     "base_uri": "https://localhost:8080/"
    },
    "executionInfo": {
     "elapsed": 252,
     "status": "ok",
     "timestamp": 1738316404216,
     "user": {
      "displayName": "Sichen Zhong",
      "userId": "05976141553128755948"
     },
     "user_tz": 300
    },
    "id": "LpZsdbA5rGK5",
    "outputId": "943abc26-ae8f-4dbd-f566-4c41b4a66723"
   },
   "outputs": [
    {
     "name": "stdout",
     "output_type": "stream",
     "text": [
      "The job failed due to an invalid training file. Invalid file format. Input file file-SkrFN8ZuR7t7k2dja1DUpH is in the prompt-completion format, but the specified model gpt-3.5-turbo-0125 is a chat model and requires chat-formatted data. See https://platform.openai.com/docs/guides/fine-tuning#preparing-your-dataset for details.\n",
      "Validating training file: file-SkrFN8ZuR7t7k2dja1DUpH\n",
      "Created fine-tuning job: ftjob-TG4PxCGnzhhNjzromXBRzKZE\n"
     ]
    }
   ],
   "source": [
    "#for debugging\n",
    "# events = openai.FineTuningJob.list_events(job_id, stream=False)\n",
    "# for event in events[\"data\"]:\n",
    "#     print(event[\"message\"])"
   ]
  },
  {
   "cell_type": "code",
   "execution_count": 40,
   "metadata": {
    "executionInfo": {
     "elapsed": 156,
     "status": "ok",
     "timestamp": 1738317877590,
     "user": {
      "displayName": "Sichen Zhong",
      "userId": "05976141553128755948"
     },
     "user_tz": 300
    },
    "id": "3VpiDDgCqkXr"
   },
   "outputs": [],
   "source": [
    "SFT_model = \"ft:gpt-3.5-turbo-0125:personal:sft-model:AvhkrpsD\"\n",
    "DPO_model = \"ft:gpt-3.5-turbo-0125:personal:dpo-model:Avi9Q9Fk\""
   ]
  },
  {
   "cell_type": "markdown",
   "metadata": {
    "id": "okHdFFxPYeHa"
   },
   "source": [
    "## Baseline"
   ]
  },
  {
   "cell_type": "code",
   "execution_count": 28,
   "metadata": {
    "colab": {
     "base_uri": "https://localhost:8080/"
    },
    "executionInfo": {
     "elapsed": 2456,
     "status": "ok",
     "timestamp": 1738316531095,
     "user": {
      "displayName": "Sichen Zhong",
      "userId": "05976141553128755948"
     },
     "user_tz": 300
    },
    "id": "DF3jiLNAYf3j",
    "outputId": "fcaa774c-2b41-4672-fd28-36c278079f18"
   },
   "outputs": [
    {
     "name": "stdout",
     "output_type": "stream",
     "text": [
      "Hey there future business leaders! 🌟 Ready to take your career to the next level with NYU's Master's program in Business? 💼📈 Get ready to dive deep into cutting-edge strategies, network with industry experts, and gain the skills you need to succeed in today's fast-paced business world. 🚀 Don't just dream about success – make it happen at NYU! Apply now and join our community of driven, ambitious professionals. Let's do this! 💪 #NYUBusinessMasters #FutureLeaders #SuccessStartsHere 🎓🔥\n"
     ]
    }
   ],
   "source": [
    "# Make a completion call\n",
    "response = openai.ChatCompletion.create(\n",
    "    model=baseline_model,\n",
    "    messages=[\n",
    "        {\"role\": \"user\", \"content\": \"Respond in the writing tone, style, voice, personality, perplexity, and burstiness of NYU’s Master’s program in Business, tailored for American social media sites.\"}\n",
    "    ],\n",
    "    temperature=0.2,        # Controls randomness; higher values produce more random responses.\n",
    "    max_tokens=600,         # Limits the length of the response.\n",
    "    top_p=0.9,              # Nucleus sampling; considers tokens with cumulative probability <= top_p.\n",
    "    frequency_penalty=0.5,  # Discourages repetition of the same words.\n",
    "    presence_penalty=0.6    # Encourages talking about new topics.\n",
    ")\n",
    "\n",
    "# Print the response\n",
    "print(response['choices'][0]['message']['content'])"
   ]
  },
  {
   "cell_type": "markdown",
   "metadata": {
    "id": "vMvZMrYoYbEp"
   },
   "source": [
    "## SFT"
   ]
  },
  {
   "cell_type": "code",
   "execution_count": 29,
   "metadata": {
    "colab": {
     "base_uri": "https://localhost:8080/"
    },
    "executionInfo": {
     "elapsed": 10209,
     "status": "ok",
     "timestamp": 1738316610026,
     "user": {
      "displayName": "Sichen Zhong",
      "userId": "05976141553128755948"
     },
     "user_tz": 300
    },
    "id": "Wh0SzkZgYIuc",
    "outputId": "beac2a07-ad44-41b3-9502-4f8a82bfb422"
   },
   "outputs": [
    {
     "name": "stdout",
     "output_type": "stream",
     "text": [
      "Hey there, future business leaders! 🌟 Ready to take your career to the next level with NYU's Master's program in Business? Get ready to dive into cutting-edge coursework, collaborate with top industry professionals, and network like never before. Our program is designed to challenge you, inspire you, and push you to reach your full potential. So what are you waiting for? Apply now and get ready to #NYUBusinessYourFuture! 💼🎓 #GradSchoolGoals #BusinessMasters #NYU2022\n"
     ]
    }
   ],
   "source": [
    "# Make a completion call\n",
    "response = openai.ChatCompletion.create(\n",
    "    model=SFT_model,\n",
    "    messages=[\n",
    "        {\"role\": \"user\", \"content\": \"Respond in the writing tone, style, voice, personality, perplexity, and burstiness of NYU’s Master’s program in Business, tailored for American social media sites.\"}\n",
    "    ],\n",
    "    temperature=0.2,        # Controls randomness; higher values produce more random responses.\n",
    "    max_tokens=600,         # Limits the length of the response.\n",
    "    top_p=0.9,              # Nucleus sampling; considers tokens with cumulative probability <= top_p.\n",
    "    frequency_penalty=0.5,  # Discourages repetition of the same words.\n",
    "    presence_penalty=0.6    # Encourages talking about new topics.\n",
    ")\n",
    "\n",
    "# Print the response\n",
    "print(response['choices'][0]['message']['content'])"
   ]
  },
  {
   "cell_type": "markdown",
   "metadata": {
    "id": "uSLhV_7fYYiP"
   },
   "source": [
    "## DPO"
   ]
  },
  {
   "cell_type": "code",
   "execution_count": 41,
   "metadata": {
    "colab": {
     "base_uri": "https://localhost:8080/"
    },
    "executionInfo": {
     "elapsed": 11205,
     "status": "ok",
     "timestamp": 1738317892531,
     "user": {
      "displayName": "Sichen Zhong",
      "userId": "05976141553128755948"
     },
     "user_tz": 300
    },
    "id": "K3NtduqVJMD3",
    "outputId": "60989391-6a8e-4ac7-b380-d2eff8ff8d5d"
   },
   "outputs": [
    {
     "name": "stdout",
     "output_type": "stream",
     "text": [
      "The intersection of technology and business has always been a hot topic, but the rise of artificial intelligence (AI) is taking it to a whole new level. AI is transforming industries across the board, from healthcare to finance to retail. But what does this mean for business leaders? How can they harness the power of AI to drive growth and innovation in their organizations?\n",
      "\n",
      "These are just some of the questions we'll be exploring in our upcoming webinar on \"AI and Business: Navigating the Future.\" Join us as we dive into the latest research and insights on how AI is reshaping the business landscape, and learn how you can leverage this powerful technology to stay ahead of the curve.\n",
      "\n",
      "Don't miss out on this opportunity to gain valuable knowledge and network with industry experts. Register now for our free webinar on AI and Business! #AI #business #innovation\n"
     ]
    }
   ],
   "source": [
    "# Make a completion call\n",
    "response = openai.ChatCompletion.create(\n",
    "    model=DPO_model,\n",
    "    messages=[\n",
    "        {\"role\": \"user\", \"content\": \"Respond in the writing tone, style, voice, personality, perplexity, and burstiness of NYU’s Master’s program in Business, tailored for American social media sites.\"}\n",
    "    ],\n",
    "    temperature=0.2,        # Controls randomness; higher values produce more random responses.\n",
    "    max_tokens=600,         # Limits the length of the response.\n",
    "    top_p=0.9,              # Nucleus sampling; considers tokens with cumulative probability <= top_p.\n",
    "    frequency_penalty=0.5,  # Discourages repetition of the same words.\n",
    "    presence_penalty=0.6    # Encourages talking about new topics.\n",
    ")\n",
    "\n",
    "# Print the response\n",
    "print(response['choices'][0]['message']['content'])\n"
   ]
  }
 ],
 "metadata": {
  "colab": {
   "provenance": []
  },
  "kernelspec": {
   "display_name": "Python 3",
   "name": "python3"
  },
  "language_info": {
   "name": "python"
  }
 },
 "nbformat": 4,
 "nbformat_minor": 0
}
